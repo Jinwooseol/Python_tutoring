{
 "cells": [
  {
   "cell_type": "markdown",
   "id": "6dd8610f",
   "metadata": {},
   "source": [
    "# 🐍 Python 과외 1일차 (기초편)\n",
    "> Jupyter Notebook을 사용한 Python 입문 수업"
   ]
  },
  {
   "cell_type": "markdown",
   "id": "888a9981",
   "metadata": {},
   "source": [
    "## 1. Jupyter Notebook 사용법\n",
    "- 셀 실행: `Shift + Enter`\n",
    "- 주석: `#` 기호를 사용\n",
    "- 코드 셀 vs Markdown 셀: 설명은 Markdown 셀에 적습니다"
   ]
  },
  {
   "cell_type": "code",
   "execution_count": null,
   "id": "7e1609ab",
   "metadata": {},
   "outputs": [],
   "source": [
    "# 코드 셀 실행 예시\n",
    "print(\"Hello, Python!\")"
   ]
  },
  {
   "cell_type": "markdown",
   "id": "39f25703",
   "metadata": {},
   "source": [
    "## 2. 기본 연산자와 출력"
   ]
  },
  {
   "cell_type": "code",
   "execution_count": null,
   "id": "6d8551da",
   "metadata": {},
   "outputs": [],
   "source": [
    "# 사칙연산\n",
    "print(2 + 3)   # 더하기\n",
    "print(10 - 4)  # 빼기\n",
    "print(3 * 7)   # 곱하기\n",
    "print(8 / 2)   # 나누기\n",
    "\n",
    "# 제곱, 나머지, 몫\n",
    "print(2 ** 3)  # 제곱\n",
    "print(10 % 3)  # 나머지\n",
    "print(10 // 3) # 몫\n"
   ]
  },
  {
   "cell_type": "markdown",
   "id": "29a999f9",
   "metadata": {},
   "source": [
    "## 3. 변수와 데이터 타입"
   ]
  },
  {
   "cell_type": "code",
   "execution_count": null,
   "id": "cdf2e4fd",
   "metadata": {},
   "outputs": [],
   "source": [
    "name = \"Alice\"\n",
    "age = 14\n",
    "height = 163.5\n",
    "is_student = True\n",
    "\n",
    "print(name, age, height, is_student)\n",
    "print(type(age), type(name), type(height), type(is_student))\n"
   ]
  },
  {
   "cell_type": "markdown",
   "id": "cbdc937b",
   "metadata": {},
   "source": [
    "👉 연습: 본인의 정보를 변수로 만들어보세요!\n",
    "- 이름, 나이, 키, 학생 여부"
   ]
  },
  {
   "cell_type": "markdown",
   "id": "04c77428",
   "metadata": {},
   "source": [
    "## 4. 입력과 문자열"
   ]
  },
  {
   "cell_type": "code",
   "execution_count": null,
   "id": "681b7415",
   "metadata": {},
   "outputs": [],
   "source": [
    "your_name = input(\"당신의 이름은? \")\n",
    "print(\"안녕하세요, \" + your_name + \"님!\")"
   ]
  },
  {
   "cell_type": "code",
   "execution_count": null,
   "id": "86500928",
   "metadata": {},
   "outputs": [],
   "source": [
    "# f-string 사용\n",
    "your_name = input(\"당신의 이름은? \")\n",
    "print(f\"안녕하세요, {your_name}님!\")"
   ]
  },
  {
   "cell_type": "markdown",
   "id": "7e8b4338",
   "metadata": {},
   "source": [
    "## 5. 조건문 체험"
   ]
  },
  {
   "cell_type": "code",
   "execution_count": null,
   "id": "b9637d6a",
   "metadata": {},
   "outputs": [],
   "source": [
    "age = int(input(\"당신의 나이는? \"))\n",
    "if age >= 20:\n",
    "    print(\"성인입니다.\")\n",
    "else:\n",
    "    print(\"아직 미성년자입니다.\")"
   ]
  },
  {
   "cell_type": "markdown",
   "id": "462ca1bb",
   "metadata": {},
   "source": [
    "## ✅ 미션: 이름과 나이를 입력받아 소개 문장 출력하기"
   ]
  },
  {
   "cell_type": "code",
   "execution_count": null,
   "id": "1af6fc02",
   "metadata": {},
   "outputs": [],
   "source": [
    "name = input(\"이름은? \")\n",
    "age = input(\"나이는? \")\n",
    "print(name + \"님은 \" + age + \"살입니다.\")"
   ]
  },
  {
   "cell_type": "markdown",
   "id": "b8c8a939",
   "metadata": {},
   "source": [
    "## 🎁 보너스: 이모지와 별 출력하기"
   ]
  },
  {
   "cell_type": "code",
   "execution_count": null,
   "id": "99cb35b3",
   "metadata": {},
   "outputs": [],
   "source": [
    "print(\"🎉 축하합니다! 첫 파이썬 수업 완료! 🎈\")\n",
    "print(\"*\" * 10)"
   ]
  }
 ],
 "metadata": {},
 "nbformat": 4,
 "nbformat_minor": 5
}
